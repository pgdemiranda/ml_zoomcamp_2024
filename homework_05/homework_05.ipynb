{
 "cells": [
  {
   "cell_type": "markdown",
   "metadata": {},
   "source": [
    "# Homework 05 - Deployment"
   ]
  },
  {
   "cell_type": "markdown",
   "metadata": {},
   "source": [
    "`Note: sometimes your answer doesn't match one of the options exactly. That's fine. Select the option that's closest to your solution.`\n",
    "\n",
    "`Note: we recommend using python 3.11 in this homework.`\n",
    "\n",
    "## Question 1\n",
    "\n",
    "- Install Pipenv\n",
    "\n",
    "What's the version of pipenv you installed?\n",
    "\n",
    "`Use --version to find out`"
   ]
  },
  {
   "cell_type": "markdown",
   "metadata": {},
   "source": [
    "Answer: version 2024.2.0"
   ]
  },
  {
   "cell_type": "markdown",
   "metadata": {},
   "source": [
    "## Question 2\n",
    "\n",
    "`Use Pipenv to install Scikit-Learn version 1.5.2`\n",
    "    \n",
    "What's the first hash for scikit-learn you get in Pipfile.lock?\n",
    "\n",
    "`Note: you should create an empty folder for homework and do it there.`\n"
   ]
  },
  {
   "cell_type": "markdown",
   "metadata": {},
   "source": [
    "1. pipenv --python 3.11\n",
    "2. pipenv install scikit-learn==1.5.2\n",
    "\n",
    "Answer: 03b6158efa3faaf1feea3faa884c840ebd61b6484167c711548fce208ea09445"
   ]
  },
  {
   "cell_type": "markdown",
   "metadata": {},
   "source": [
    "### Models\n",
    "We've prepared a dictionary vectorizer and a model.\n",
    "\n",
    "### With wget:\n",
    "`PREFIX=https://raw.githubusercontent.com/DataTalksClub/machine-learning-zoomcamp/master/cohorts/2024/05-deployment/homework`\n",
    "\n",
    "`wget $PREFIX/model1.bin`\n",
    "\n",
    "`wget $PREFIX/dv.bin`"
   ]
  },
  {
   "cell_type": "markdown",
   "metadata": {},
   "source": [
    "## Question 3\n",
    "\n",
    "Let's use these models!\n",
    "- Write a script for loading these models with pickle\n",
    "\n",
    "- Score this client:\n",
    "\n",
    "{\"job\": \"management\", \"duration\": 400, \"poutcome\": \"success\"}\n",
    "\n",
    "What's the probability that this client will get a subscription?\n",
    "\n",
    "- 0.359\n",
    "- 0.559\n",
    "- 0.759\n",
    "- 0.959\n",
    "\n",
    "If you're getting errors when unpickling the files, check their checksum:\n",
    "\n",
    "`$ md5sum model1.bin dv.bin`\n",
    "\n",
    "`3d8bb28974e55edefa000fe38fd3ed12  model1.bin`\n",
    "\n",
    "`7d37616e00aa80f2152b8b0511fc2dff  dv.bin`"
   ]
  },
  {
   "cell_type": "markdown",
   "metadata": {},
   "source": [
    "1. pipenv shell\n",
    "2. pipenv install flask\n",
    "3. python3 predict.py\n",
    "4. curl -X POST http://localhost:9696/predict -H \"Content-Type: application/json\" -d '{\"job\": \"management\", \"duration\": 400, \"poutcome\": \"success\"}'\n",
    "\n",
    "if customer.json\n",
    "\n",
    "4. curl -X POST http://localhost:9696/predict -H \"Content-Type: application/json\" -d @customer.json\n",
    "\n",
    "Answer: 0.759"
   ]
  },
  {
   "cell_type": "markdown",
   "metadata": {},
   "source": [
    "## Question 4\n",
    "\n",
    "Now let's serve this model as a web service\n",
    "\n",
    "- Install Flask and gunicorn (or waitress, if you're on Windows)\n",
    "- Write Flask code for serving the model\n",
    "- Now score this client using requests:\n",
    "\n",
    "    - url = \"YOUR_URL\"\n",
    "    - client = {\"job\": \"student\", \"duration\": 280, \"poutcome\": \"failure\"}\n",
    "    - requests.post(url, json=client).json()\n",
    "\n",
    "What's the probability that this client will get a subscription?\n",
    "\n",
    "- 0.335\n",
    "- 0.535\n",
    "- 0.735\n",
    "- 0.935\n",
    "\n",
    "1. gunicorn --bind 0.0.0.0:9696 predict:app\n",
    "2. python3 request.py\n",
    "\n",
    "Answer: 0.334"
   ]
  },
  {
   "cell_type": "markdown",
   "metadata": {},
   "source": [
    "### Docker\n",
    "\n",
    "Install Docker. \n",
    "\n",
    "We will use it for the next two questions.\n",
    "For these questions, we prepared a base image: `svizor/zoomcamp-model:3.11.5-slim`. You'll need to use it (see Question 5 for an example).\n",
    "\n",
    "\n",
    "This image is based on python:3.11.5-slim and has a logistic regression model (a different one) as well a dictionary vectorizer inside.\n",
    "\n",
    "\n",
    "This is how the Dockerfile for this image looks like:\n",
    "\n",
    "FROM python:3.11.5-slim\n",
    "\n",
    "WORKDIR /app\n",
    "\n",
    "COPY [\"model2.bin\", \"dv.bin\", \"./\"]\n",
    "\n",
    "\n",
    "We already built it and then pushed it to svizor/zoomcamp-model:3.11.5-slim.\n",
    "\n",
    "`Note: You don't need to build this docker image, it's just for your reference.`"
   ]
  },
  {
   "cell_type": "markdown",
   "metadata": {},
   "source": [
    "## Question 5\n",
    "\n",
    "Download the base image svizor/zoomcamp-model:3.11.5-slim. You can easily make it by using docker pull command.\n",
    "\n",
    "So what's the size of this base image?\n",
    "\n",
    "- 45 MB\n",
    "- 130 MB\n",
    "- 245 MB\n",
    "- 330 MB\n",
    "\n",
    "You can get this information when running `docker images` - it'll be in the \"SIZE\" column."
   ]
  },
  {
   "cell_type": "markdown",
   "metadata": {},
   "source": [
    "1. sudo docker run -it svizor/zoomcamp-model:3.11.5-slim\n",
    "2. sudo docker images\n",
    "\n",
    "Answer: 130 MB"
   ]
  },
  {
   "cell_type": "markdown",
   "metadata": {},
   "source": [
    "### Dockerfile\n",
    "\n",
    "Now create your own Dockerfile based on the image we prepared.\n",
    "\n",
    "It should start like that:\n",
    "\n",
    "```\n",
    "FROM svizor/zoomcamp-model:3.11.5-slim\n",
    "**add your stuff here**\n",
    "```\n",
    "\n",
    "Now complete it:\n",
    "\n",
    "- Install all the dependencies form the Pipenv file\n",
    "- Copy your Flask script\n",
    "- Run it with Gunicorn\n",
    "\n",
    "After that, you can build your docker image."
   ]
  },
  {
   "cell_type": "markdown",
   "metadata": {},
   "source": [
    "## Question 6\n",
    "\n",
    "Let's run your docker container!\n",
    "\n",
    "After running it, score this client once again:\n",
    "\n",
    "- url = \"YOUR_URL\"\n",
    "- client = {\"job\": \"management\", \"duration\": 400, \"poutcome\": \"success\"}\n",
    "- requests.post(url, json=client).json()\n",
    "\n",
    "What's the probability that this client will get a subscription now?\n",
    "- 0.287\n",
    "- 0.530\n",
    "- 0.757\n",
    "- 0.960\n"
   ]
  },
  {
   "cell_type": "markdown",
   "metadata": {},
   "source": [
    "```Dockerfile\n",
    "FROM svizor/zoomcamp-model:3.11.5-slim\n",
    "\n",
    "RUN pip install pipenv\n",
    "\n",
    "WORKDIR /app\n",
    "\n",
    "COPY [\"Pipfile\", \"Pipfile.lock\", \"predict.py\", \"./\"]\n",
    "\n",
    "RUN pipenv install --system --deploy\n",
    "\n",
    "EXPOSE 9696\n",
    "\n",
    "ENTRYPOINT [\"gunicorn\", \"--bind=0.0.0.0:9696\", \"predict:app\"]\n",
    "```\n",
    "\n",
    "1. sudo docker build -t homework .\n",
    "\n",
    "2. sudo docker run -it -p 9696:9696 homework\n",
    "\n",
    "3. (other terminal) python3 request.py\n",
    "\n",
    "Answer: 0.756"
   ]
  }
 ],
 "metadata": {
  "language_info": {
   "name": "python"
  }
 },
 "nbformat": 4,
 "nbformat_minor": 2
}
