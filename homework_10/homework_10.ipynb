{
 "cells": [
  {
   "cell_type": "markdown",
   "metadata": {},
   "source": [
    "# Homework 10"
   ]
  },
  {
   "cell_type": "markdown",
   "metadata": {},
   "source": [
    "## Question 1\n",
    "\n",
    "Run it to test that it's working locally:\n",
    "\n",
    "docker run -it --rm -p 9696:9696 zoomcamp-model:3.11.5-hw10\n",
    "\n",
    "And in another terminal, execute q6_test.py file:\n",
    "\n",
    "python q6_test.py\n",
    "\n",
    "You should see this:\n",
    "\n",
    "{'has_subscribed': True, 'has_subscribed_probability': <value>}\n",
    "\n",
    "Here <value> is the probability of getting a subscription. You need to choose the right one.\n",
    "\n",
    "- 0.287\n",
    "- 0.530\n",
    "- 0.757 <-\n",
    "- 0.960\n",
    "\n",
    "Now you can stop the container running in Docker."
   ]
  },
  {
   "cell_type": "markdown",
   "metadata": {},
   "source": [
    "Answer:\n",
    "\n",
    "{'has_subscribed': True, 'has_subscribed_probability': 0.756743795240796}"
   ]
  },
  {
   "cell_type": "markdown",
   "metadata": {},
   "source": [
    "## Installing kubectl and kind\n",
    "\n",
    "You need to install:\n",
    "\n",
    "- kubectl - https://kubernetes.io/docs/tasks/tools/ (you might already have it - check before installing)\n",
    "- kind - https://kind.sigs.k8s.io/docs/user/quick-start/"
   ]
  },
  {
   "cell_type": "markdown",
   "metadata": {},
   "source": [
    "## Question 2\n",
    "\n",
    "What's the version of kind that you have?\n",
    "\n",
    "`Use kind --version to find out.`"
   ]
  },
  {
   "cell_type": "markdown",
   "metadata": {},
   "source": [
    "kind version 0.26.0"
   ]
  },
  {
   "cell_type": "markdown",
   "metadata": {},
   "source": [
    "## Creating a cluster\n",
    "\n",
    "Now let's create a cluster with kind:\n",
    "\n",
    "`kind create cluster`\n",
    "\n",
    "And check with kubectl that it was successfully created:\n",
    "\n",
    "`kubectl cluster-info`"
   ]
  },
  {
   "cell_type": "markdown",
   "metadata": {},
   "source": [
    "## Question 3\n",
    "\n",
    "What's the smallest deployable computing unit that we can create and manage in Kubernetes (kind in our case)?\n",
    "\n",
    "- Node\n",
    "- Pod <-\n",
    "- Deployment\n",
    "- Service"
   ]
  },
  {
   "cell_type": "markdown",
   "metadata": {},
   "source": [
    "# Question 4\n",
    "\n",
    "Now let's test if everything works. Use kubectl to get the list of running services.\n",
    "\n",
    "What's the Type of the service that is already running there?\n",
    "\n",
    "- NodePort\n",
    "- ClusterIP <-\n",
    "- ExternalName\n",
    "- LoadBalancer"
   ]
  },
  {
   "cell_type": "markdown",
   "metadata": {},
   "source": [
    "# Question 5\n",
    "\n",
    "To be able to use the docker image we previously created (zoomcamp-model:3.11.5-hw10), we need to register it with kind.\n",
    "\n",
    "What's the command we need to run for that?\n",
    "\n",
    "- kind create cluster\n",
    "- kind build node-image\n",
    "- kind load docker-image <-\n",
    "- kubectl apply"
   ]
  },
  {
   "cell_type": "markdown",
   "metadata": {},
   "source": [
    "## Question 6\n",
    "\n",
    "Now let's create a deployment config (e.g. deployment.yaml):\n",
    "\n",
    "apiVersion: apps/v1\n",
    "kind: Deployment\n",
    "metadata:\n",
    "  name: subscription\n",
    "spec:\n",
    "  selector:\n",
    "    matchLabels:\n",
    "      app: subscription\n",
    "  replicas: 1\n",
    "  template:\n",
    "    metadata:\n",
    "      labels:\n",
    "        app: subscription\n",
    "    spec:\n",
    "      containers:\n",
    "      - name: subscription\n",
    "        image: <Image>\n",
    "        resources:\n",
    "          requests:\n",
    "            memory: \"64Mi\"\n",
    "            cpu: \"100m\"            \n",
    "          limits:\n",
    "            memory: <Memory>\n",
    "            cpu: <CPU>\n",
    "        ports:\n",
    "        - containerPort: <Port>\n",
    "\n",
    "Replace <Image>, <Memory>, <CPU>, <Port> with the correct values.\n",
    "\n",
    "What is the value for <Port>?\n",
    "\n",
    "Apply this deployment using the appropriate command and get a list of running Pods. You can see one running Pod."
   ]
  },
  {
   "cell_type": "markdown",
   "metadata": {},
   "source": [
    "9696"
   ]
  },
  {
   "cell_type": "markdown",
   "metadata": {},
   "source": [
    "# Question 7\n",
    "\n",
    "Let's create a service for this deployment (service.yaml):\n",
    "\n",
    "apiVersion: v1\n",
    "kind: Service\n",
    "metadata:\n",
    "  name: <Service name>\n",
    "spec:\n",
    "  type: LoadBalancer\n",
    "  selector:\n",
    "    app: <???>\n",
    "  ports:\n",
    "  - port: 80\n",
    "    targetPort: <PORT>\n",
    "\n",
    "Fill it in. What do we need to write instead of <???>?\n",
    "\n",
    "Apply this config file."
   ]
  },
  {
   "cell_type": "markdown",
   "metadata": {},
   "source": [
    "subscription"
   ]
  },
  {
   "cell_type": "markdown",
   "metadata": {},
   "source": [
    "## Testing the service\n",
    "\n",
    "We can test our service locally by forwarding the port 9696 on our computer to the port 80 on the service:\n",
    "\n",
    "`kubectl port-forward service/<Service name> 9696:80`\n",
    "\n",
    "Run q6_test.py (from the homework 5) once again to verify that everything is working. You should get the same result as in Question 1.\n",
    "\n",
    "\n",
    "## Autoscaling\n",
    "\n",
    "Now we're going to use a HorizontalPodAutoscaler (HPA for short) that automatically updates a workload resource (such as our deployment), with the aim of automatically scaling the workload to match demand.\n",
    "\n",
    "Use the following command to create the HPA:\n",
    "\n",
    "`kubectl autoscale deployment subscription --name subscription-hpa --cpu-percent=20 --min=1 --max=3`\n",
    "\n",
    "You can check the current status of the new HPA by running:\n",
    "\n",
    "`kubectl get hpa`\n",
    "\n",
    "The output should be similar to the next:\n",
    "\n",
    "NAME               REFERENCE                 TARGETS   MINPODS   MAXPODS   REPLICAS   AGE\n",
    "subscription-hpa   Deployment/subscription   1%/20%    1         3         1          27s\n",
    "\n",
    "TARGET column shows the average CPU consumption across all the Pods controlled by the corresponding deployment. Current CPU consumption is about 0% as there are no clients sending requests to the server.\n",
    "\n",
    "- Note: In case the HPA instance doesn't run properly, try to install the latest Metrics Server release from the components.yaml manifest:- \n",
    "- kubectl apply -f https://github.com/kubernetes-sigs/metrics-server/releases/latest/download/components.yaml\n",
    "\n",
    "## Increase the load\n",
    "\n",
    "Let's see how the autoscaler reacts to increasing the load. To do this, we can slightly modify the existing q6_test.py script by putting the operator that sends the request to the subscription service into a loop.\n",
    "\n",
    "while True:\n",
    "    sleep(0.1)\n",
    "    response = requests.post(url, json=client).json()\n",
    "    print(response)\n",
    "\n",
    "Now you can run this script."
   ]
  },
  {
   "cell_type": "markdown",
   "metadata": {},
   "source": [
    "# Question 8 (optional)\n",
    "\n",
    "Run kubectl get hpa subscription-hpa --watch command to monitor how the autoscaler performs. Within a minute or so, you should see the higher CPU load; and then - more replicas. What was the maximum amount of the replicas during this test?\n",
    "\n",
    "- 1 <-\n",
    "- 2\n",
    "- 3\n",
    "- 4\n",
    "\n",
    "Note: It may take a few minutes to stabilize the number of replicas. Since the amount of load is not controlled in any way it may happen that the final number of replicas will differ from initial."
   ]
  },
  {
   "cell_type": "markdown",
   "metadata": {},
   "source": []
  }
 ],
 "metadata": {
  "language_info": {
   "name": "python"
  }
 },
 "nbformat": 4,
 "nbformat_minor": 2
}
